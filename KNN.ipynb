{
 "cells": [
  {
   "cell_type": "code",
   "execution_count": 1,
   "metadata": {},
   "outputs": [],
   "source": [
    "from _utils import *\n",
    "from config import *\n",
    "from sklearn.impute import KNNImputer\n",
    "\n",
    "import time\n",
    "import argparse\n",
    "import warnings\n",
    "warnings.filterwarnings('ignore')\n",
    "\n",
    "np.random.seed(28)"
   ]
  },
  {
   "cell_type": "markdown",
   "metadata": {},
   "source": [
    "# 1 Functions"
   ]
  },
  {
   "cell_type": "code",
   "execution_count": 2,
   "metadata": {},
   "outputs": [],
   "source": [
    "class args_config():\n",
    "    def __init__(self, dataset_name):\n",
    "        self.model_name = 'KNN'\n",
    "        self.model_result_save_path = os.path.join(result_folder_path, self.model_name)\n",
    "        create_folder(self.model_result_save_path)\n",
    "\n",
    "        self.dataset_name = dataset_name\n",
    "        self.dataset_result_save_path = os.path.join(self.model_result_save_path, self.dataset_name)\n",
    "        create_folder(self.dataset_result_save_path)\n",
    "    \n",
    "    def experiment_config(self, experiment_name):\n",
    "        self.experiment_result_save_path = os.path.join(self.dataset_result_save_path, experiment_name)\n",
    "        create_folder(self.experiment_result_save_path)\n",
    "\n",
    "        data_complete_path = os.path.join(self.experiment_result_save_path, 'data_complete')\n",
    "        best_data_complete_path = os.path.join(self.experiment_result_save_path, 'best_data_complete.csv')\n",
    "        metrics_analysis_path = os.path.join(self.experiment_result_save_path, 'metrics_analysis')\n",
    "        plt_result_path = os.path.join(self.experiment_result_save_path, 'plt_result.png')\n",
    "        best_args_path = os.path.join(self.experiment_result_save_path, 'best_args_config.yml')\n",
    "        final_complete_save_path = os.path.join(self.experiment_result_save_path, 'final_complete.csv')\n",
    "        create_folder([data_complete_path, metrics_analysis_path])\n",
    "        \n",
    "        parser = argparse.ArgumentParser(description='data complete configs')\n",
    "        parser.add_argument('--data_complete_path', type=str, default=data_complete_path)\n",
    "        parser.add_argument('--best_data_complete_path', type=str, default=best_data_complete_path)\n",
    "        parser.add_argument('--metrics_analysis_path', type=str, default=metrics_analysis_path)\n",
    "        parser.add_argument('--plt_result_path', type=str, default=plt_result_path)\n",
    "        parser.add_argument('--best_args_path', type=str, default=best_args_path)\n",
    "        parser.add_argument('--final_complete_save_path', type=str, default=final_complete_save_path)\n",
    "        args = parser.parse_known_args()[0]\n",
    "        return args"
   ]
  },
  {
   "cell_type": "code",
   "execution_count": 3,
   "metadata": {},
   "outputs": [],
   "source": [
    "flow_sim_args = args_config('flow_sim')\n",
    "flow_zcity_args = args_config('flow_zcity')\n",
    "pres_sim_args = args_config('pres_sim')\n",
    "pres_zcity_args = args_config('pres_zcity')"
   ]
  },
  {
   "cell_type": "code",
   "execution_count": 4,
   "metadata": {},
   "outputs": [],
   "source": [
    "def compute_true_metrics(raw_data_value, denorm_sparse_value, denorm_data_complete_value):\n",
    "    pos_test = np.where((raw_data_value != 0) & (denorm_sparse_value == 0))\n",
    "    true_mape = compute_mape(raw_data_value[pos_test], denorm_data_complete_value[pos_test])\n",
    "    true_rmse = compute_rmse(raw_data_value[pos_test], denorm_data_complete_value[pos_test])\n",
    "    true_smape = compute_smape(raw_data_value[pos_test], denorm_data_complete_value[pos_test])\n",
    "    return true_mape, true_rmse, true_smape"
   ]
  },
  {
   "cell_type": "code",
   "execution_count": 5,
   "metadata": {},
   "outputs": [],
   "source": [
    "def fill_data_after_preprocess(best_data_complete_path, data_after_preprocess_path, data_after_complete_path):\n",
    "    best_data_complete_df = read_csv_data(best_data_complete_path)\n",
    "    data_after_preprocess_df = read_csv_data(data_after_preprocess_path)\n",
    "    data_after_preprocess_df = data_after_preprocess_df.astype('float64')\n",
    "    zero_indices = np.where(data_after_preprocess_df == 0)\n",
    "    zero_indices = list(zip(zero_indices[0], zero_indices[1]))\n",
    "    for zero_index in zero_indices:\n",
    "        data_after_preprocess_df.iloc[zero_index[0], zero_index[1]] = best_data_complete_df.iloc[zero_index[0], zero_index[1]]\n",
    "    data_after_preprocess_df.to_csv(data_after_complete_path, index=True, header=True)\n",
    "    print('Data after complete saved in {}'.format(data_after_complete_path))\n",
    "    return"
   ]
  },
  {
   "cell_type": "code",
   "execution_count": 6,
   "metadata": {},
   "outputs": [],
   "source": [
    "class KNN_dataComplete():\n",
    "\n",
    "    def __init__(self, dataset_name, experiment_name, experiment_args):\n",
    "\n",
    "        if dataset_name == 'flow_sim':\n",
    "            self.raw_dataset_path = flow_sim_path\n",
    "            self.n_neighbors_search_space = [5, 10, 15, 20, 30]\n",
    "        elif dataset_name == 'pres_sim':\n",
    "            self.raw_dataset_path = pres_sim_path\n",
    "            self.n_neighbors_search_space = [5, 10, 15, 20, 30]\n",
    "        elif dataset_name == 'flow_zcity':\n",
    "            self.raw_dataset_path = flow_zcity_path\n",
    "            self.n_neighbors_search_space = [5, 10, 15, 20, 30]\n",
    "        elif dataset_name == 'pres_zcity':\n",
    "            self.raw_dataset_path = pres_zcity_path\n",
    "            self.n_neighbors_search_space = [5, 10, 15, 20, 30]\n",
    "\n",
    "        self.experiment_args = experiment_args\n",
    "\n",
    "        self.raw_data_df = read_csv_data(self.raw_dataset_path)\n",
    "\n",
    "        self.sparse_for_completing_path = os.path.join(dataset_sparse_path, dataset_name, experiment_name, 'denorm_sparse_for_completing.csv')\n",
    "        self.sparse_data_df = read_csv_data(self.sparse_for_completing_path)\n",
    "\n",
    "        self.data_complete_path = self.experiment_args.data_complete_path\n",
    "        self.best_data_complete_path = self.experiment_args.best_data_complete_path\n",
    "        self.metrics_analysis_path = self.experiment_args.metrics_analysis_path\n",
    "        self.plt_result_path = self.experiment_args.plt_result_path\n",
    "        self.best_args_path = self.experiment_args.best_args_path\n",
    "        self.final_complete_save_path = self.experiment_args.final_complete_save_path\n",
    "\n",
    "    def knn_data_complete(self):\n",
    "\n",
    "        metrics_all_sensors_df = pd.DataFrame(columns=['MAPE', 'RMSE', 'SMAPE'])\n",
    "        mape_single_sensor_df = pd.DataFrame(columns=self.raw_data_df.columns)\n",
    "        rmse_single_sensor_df = pd.DataFrame(columns=self.raw_data_df.columns)\n",
    "        smape_single_sensor_df = pd.DataFrame(columns=self.raw_data_df.columns)\n",
    "        best_rmse = np.inf\n",
    "        best_n_neighbors = None\n",
    "        best = False\n",
    "        current_epoch = 1        \n",
    "        total_epoch = len(self.n_neighbors_search_space)\n",
    "\n",
    "        for n_neighbors in self.n_neighbors_search_space:\n",
    "            start = time.time()\n",
    "            print('\\nepoch: %d/%d, n_neighbors: %d' % (current_epoch, total_epoch, n_neighbors))\n",
    "\n",
    "            imputer = KNNImputer(n_neighbors=n_neighbors, weights='uniform', metric='nan_euclidean')\n",
    "            sparse_data_df = self.sparse_data_df.replace(0, np.nan)\n",
    "            data_complete_value = imputer.fit_transform(sparse_data_df)\n",
    "            data_complete_df = pd.DataFrame(data_complete_value, columns=self.sparse_data_df.columns, index=self.sparse_data_df.index)\n",
    "            save_path = os.path.join(self.data_complete_path, 'n_neighbors=' + str(n_neighbors) + '.csv')\n",
    "\n",
    "            data_complete_df = data_complete_df.round(3)\n",
    "            data_complete_df.to_csv(save_path, index=True, header=True)\n",
    "  \n",
    "            mape_all_sensors, rmse_all_sensors, smape_all_sensors = compute_true_metrics(self.raw_data_df.values, self.sparse_data_df.values, data_complete_value)\n",
    "            print('MAPE: %.6f, RMSE: %.6f, SMAPE: %.6f' % (mape_all_sensors, rmse_all_sensors, smape_all_sensors))\n",
    "            metrics_all_sensors_df.loc['n_neighbors=' + str(n_neighbors)] = [mape_all_sensors, rmse_all_sensors, smape_all_sensors]\n",
    "            if rmse_all_sensors < best_rmse:\n",
    "                best_rmse = rmse_all_sensors\n",
    "                best_n_neighbors = n_neighbors\n",
    "                best = True\n",
    "            \n",
    "            if best:\n",
    "                data_complete_df.to_csv(self.best_data_complete_path, index=True, header=True)\n",
    "                best = False\n",
    "\n",
    "            mape_single_sensor_list, rmse_single_sensor_list, smape_single_sensor_list = result_analysis(self.raw_data_df, self.sparse_data_df, data_complete_df)\n",
    "            mape_single_sensor_df.loc['n_neighbors=' + str(n_neighbors)] = mape_single_sensor_list\n",
    "            rmse_single_sensor_df.loc['n_neighbors=' + str(n_neighbors)] = rmse_single_sensor_list\n",
    "            smape_single_sensor_df.loc['n_neighbors=' + str(n_neighbors)] = smape_single_sensor_list\n",
    "                \n",
    "            end = time.time()\n",
    "            print('Running time: %d seconds'%(end - start))\n",
    "            current_epoch += 1\n",
    "        \n",
    "        metrics_all_sensors_df.to_csv(os.path.join(self.metrics_analysis_path, 'metrics_all_sensors.csv'), index=True, header=True)\n",
    "        mape_single_sensor_df.to_csv(os.path.join(self.metrics_analysis_path, 'mape_single_sensor.csv'), index=True, header=True)\n",
    "        rmse_single_sensor_df.to_csv(os.path.join(self.metrics_analysis_path, 'rmse_single_sensor.csv'), index=True, header=True)\n",
    "        smape_single_sensor_df.to_csv(os.path.join(self.metrics_analysis_path, 'smape_single_sensor.csv'), index=True, header=True)\n",
    "        best_mape_single_sensor_list = mape_single_sensor_df.loc['n_neighbors=' + str(best_n_neighbors)].values\n",
    "        best_rmse_single_sensor_list = rmse_single_sensor_df.loc['n_neighbors=' + str(best_n_neighbors)].values\n",
    "        best_smape_single_sensor_list = smape_single_sensor_df.loc['n_neighbors=' + str(best_n_neighbors)].values\n",
    "        return best_n_neighbors, best_mape_single_sensor_list, best_rmse_single_sensor_list, best_smape_single_sensor_list\n",
    "    \n",
    "    def run(self):\n",
    "        best_n_neighbors, best_mape_single_sensor_list, best_rmse_single_sensor_list, best_smape_single_sensor_list = self.knn_data_complete()\n",
    "        \n",
    "        write_yaml(self.best_args_path, {'best_n_neighbors': best_n_neighbors})\n",
    "        fill_data_after_preprocess(self.best_data_complete_path, self.raw_dataset_path, self.final_complete_save_path)\n",
    "        plt_result(self.raw_data_df, read_csv_data(self.best_data_complete_path), self.sparse_data_df, self.plt_result_path,\n",
    "                   best_mape_single_sensor_list, best_rmse_single_sensor_list, best_smape_single_sensor_list)"
   ]
  },
  {
   "cell_type": "markdown",
   "metadata": {},
   "source": [
    "# 2 Experiment"
   ]
  },
  {
   "cell_type": "markdown",
   "metadata": {},
   "source": [
    "----"
   ]
  },
  {
   "cell_type": "markdown",
   "metadata": {},
   "source": [
    "## 2.1 30% Random Missing"
   ]
  },
  {
   "cell_type": "code",
   "execution_count": null,
   "metadata": {},
   "outputs": [],
   "source": [
    "experiment_name = 'random_0.3'\n",
    "dataset_name_list = ['flow_sim', 'flow_zcity', 'pres_sim', 'pres_zcity']\n",
    "\n",
    "for dataset_name in dataset_name_list:\n",
    "\n",
    "    if dataset_name == 'flow_sim':\n",
    "        experiment_args = flow_sim_args.experiment_config(experiment_name)\n",
    "    elif dataset_name == 'flow_zcity':\n",
    "        experiment_args = flow_zcity_args.experiment_config(experiment_name)\n",
    "    elif dataset_name == 'pres_sim':\n",
    "        experiment_args = pres_sim_args.experiment_config(experiment_name)\n",
    "    elif dataset_name == 'pres_zcity':\n",
    "        experiment_args = pres_zcity_args.experiment_config(experiment_name)\n",
    "    knn_dataComplete = KNN_dataComplete(dataset_name, experiment_name, experiment_args)\n",
    "    knn_dataComplete.run()"
   ]
  },
  {
   "cell_type": "markdown",
   "metadata": {},
   "source": [
    "## 2.2 60% Random Missing"
   ]
  },
  {
   "cell_type": "code",
   "execution_count": null,
   "metadata": {},
   "outputs": [],
   "source": [
    "experiment_name = 'random_0.6'\n",
    "dataset_name_list = ['flow_sim', 'flow_zcity', 'pres_sim', 'pres_zcity']\n",
    "\n",
    "for dataset_name in dataset_name_list:\n",
    "    \n",
    "    if dataset_name == 'flow_sim':\n",
    "        experiment_args = flow_sim_args.experiment_config(experiment_name)\n",
    "    elif dataset_name == 'flow_zcity':\n",
    "        experiment_args = flow_zcity_args.experiment_config(experiment_name)\n",
    "    elif dataset_name == 'pres_sim':\n",
    "        experiment_args = pres_sim_args.experiment_config(experiment_name)\n",
    "    elif dataset_name == 'pres_zcity':\n",
    "        experiment_args = pres_zcity_args.experiment_config(experiment_name)\n",
    "    knn_dataComplete = KNN_dataComplete(dataset_name, experiment_name, experiment_args)\n",
    "    knn_dataComplete.run()"
   ]
  },
  {
   "cell_type": "markdown",
   "metadata": {},
   "source": [
    "## 2.3 90% Random Missing"
   ]
  },
  {
   "cell_type": "code",
   "execution_count": null,
   "metadata": {},
   "outputs": [],
   "source": [
    "experiment_name = 'random_0.9'\n",
    "dataset_name_list = ['flow_sim', 'flow_zcity', 'pres_sim', 'pres_zcity']\n",
    "\n",
    "for dataset_name in dataset_name_list:\n",
    "    \n",
    "    if dataset_name == 'flow_sim':\n",
    "        experiment_args = flow_sim_args.experiment_config(experiment_name)\n",
    "    elif dataset_name == 'flow_zcity':\n",
    "        experiment_args = flow_zcity_args.experiment_config(experiment_name)\n",
    "    elif dataset_name == 'pres_sim':\n",
    "        experiment_args = pres_sim_args.experiment_config(experiment_name)\n",
    "    elif dataset_name == 'pres_zcity':\n",
    "        experiment_args = pres_zcity_args.experiment_config(experiment_name)\n",
    "    knn_dataComplete = KNN_dataComplete(dataset_name, experiment_name, experiment_args)\n",
    "    knn_dataComplete.run()"
   ]
  },
  {
   "cell_type": "markdown",
   "metadata": {},
   "source": [
    "## 2.4 30% Long-Range Missing"
   ]
  },
  {
   "cell_type": "code",
   "execution_count": null,
   "metadata": {},
   "outputs": [],
   "source": [
    "experiment_name = 'long_range_0.3'\n",
    "dataset_name_list = ['flow_sim', 'flow_zcity', 'pres_sim', 'pres_zcity']\n",
    "\n",
    "for dataset_name in dataset_name_list:\n",
    "    \n",
    "    if dataset_name == 'flow_sim':\n",
    "        experiment_args = flow_sim_args.experiment_config(experiment_name)\n",
    "    elif dataset_name == 'flow_zcity':\n",
    "        experiment_args = flow_zcity_args.experiment_config(experiment_name)\n",
    "    elif dataset_name == 'pres_sim':\n",
    "        experiment_args = pres_sim_args.experiment_config(experiment_name)\n",
    "    elif dataset_name == 'pres_zcity':\n",
    "        experiment_args = pres_zcity_args.experiment_config(experiment_name)\n",
    "    knn_dataComplete = KNN_dataComplete(dataset_name, experiment_name, experiment_args)\n",
    "    knn_dataComplete.run()"
   ]
  },
  {
   "cell_type": "markdown",
   "metadata": {},
   "source": [
    "## 2.5 60% Long-Range Missing"
   ]
  },
  {
   "cell_type": "code",
   "execution_count": null,
   "metadata": {},
   "outputs": [],
   "source": [
    "experiment_name = 'long_range_0.6'\n",
    "dataset_name_list = ['flow_sim', 'flow_zcity', 'pres_sim', 'pres_zcity']\n",
    "\n",
    "for dataset_name in dataset_name_list:\n",
    "    \n",
    "    if dataset_name == 'flow_sim':\n",
    "        experiment_args = flow_sim_args.experiment_config(experiment_name)\n",
    "    elif dataset_name == 'flow_zcity':\n",
    "        experiment_args = flow_zcity_args.experiment_config(experiment_name)\n",
    "    elif dataset_name == 'pres_sim':\n",
    "        experiment_args = pres_sim_args.experiment_config(experiment_name)\n",
    "    elif dataset_name == 'pres_zcity':\n",
    "        experiment_args = pres_zcity_args.experiment_config(experiment_name)\n",
    "    knn_dataComplete = KNN_dataComplete(dataset_name, experiment_name, experiment_args)\n",
    "    knn_dataComplete.run()"
   ]
  },
  {
   "cell_type": "markdown",
   "metadata": {},
   "source": [
    "## 2.6 30% Block Missing"
   ]
  },
  {
   "cell_type": "code",
   "execution_count": null,
   "metadata": {},
   "outputs": [],
   "source": [
    "experiment_name = 'block_0.3'\n",
    "dataset_name_list = ['flow_sim', 'flow_zcity', 'pres_sim', 'pres_zcity']\n",
    "\n",
    "for dataset_name in dataset_name_list:\n",
    "    \n",
    "    if dataset_name == 'flow_sim':\n",
    "        experiment_args = flow_sim_args.experiment_config(experiment_name)\n",
    "    elif dataset_name == 'flow_zcity':\n",
    "        experiment_args = flow_zcity_args.experiment_config(experiment_name)\n",
    "    elif dataset_name == 'pres_sim':\n",
    "        experiment_args = pres_sim_args.experiment_config(experiment_name)\n",
    "    elif dataset_name == 'pres_zcity':\n",
    "        experiment_args = pres_zcity_args.experiment_config(experiment_name)\n",
    "    knn_dataComplete = KNN_dataComplete(dataset_name, experiment_name, experiment_args)\n",
    "    knn_dataComplete.run()"
   ]
  },
  {
   "cell_type": "markdown",
   "metadata": {},
   "source": [
    "## 2.7 60% Block Missing"
   ]
  },
  {
   "cell_type": "code",
   "execution_count": null,
   "metadata": {},
   "outputs": [],
   "source": [
    "experiment_name = 'block_0.6'\n",
    "dataset_name_list = ['flow_sim', 'flow_zcity', 'pres_sim', 'pres_zcity']\n",
    "\n",
    "for dataset_name in dataset_name_list:\n",
    "    \n",
    "    if dataset_name == 'flow_sim':\n",
    "        experiment_args = flow_sim_args.experiment_config(experiment_name)\n",
    "    elif dataset_name == 'flow_zcity':\n",
    "        experiment_args = flow_zcity_args.experiment_config(experiment_name)\n",
    "    elif dataset_name == 'pres_sim':\n",
    "        experiment_args = pres_sim_args.experiment_config(experiment_name)\n",
    "    elif dataset_name == 'pres_zcity':\n",
    "        experiment_args = pres_zcity_args.experiment_config(experiment_name)\n",
    "    knn_dataComplete = KNN_dataComplete(dataset_name, experiment_name, experiment_args)\n",
    "    knn_dataComplete.run()"
   ]
  },
  {
   "cell_type": "markdown",
   "metadata": {},
   "source": [
    "## 2.8 30% Mix Missing"
   ]
  },
  {
   "cell_type": "code",
   "execution_count": null,
   "metadata": {},
   "outputs": [],
   "source": [
    "experiment_name = 'mix_0.3'\n",
    "dataset_name_list = ['flow_sim', 'flow_zcity', 'pres_sim', 'pres_zcity']\n",
    "\n",
    "for dataset_name in dataset_name_list:\n",
    "    \n",
    "    if dataset_name == 'flow_sim':\n",
    "        experiment_args = flow_sim_args.experiment_config(experiment_name)\n",
    "    elif dataset_name == 'flow_zcity':\n",
    "        experiment_args = flow_zcity_args.experiment_config(experiment_name)\n",
    "    elif dataset_name == 'pres_sim':\n",
    "        experiment_args = pres_sim_args.experiment_config(experiment_name)\n",
    "    elif dataset_name == 'pres_zcity':\n",
    "        experiment_args = pres_zcity_args.experiment_config(experiment_name)\n",
    "    knn_dataComplete = KNN_dataComplete(dataset_name, experiment_name, experiment_args)\n",
    "    knn_dataComplete.run()"
   ]
  },
  {
   "cell_type": "markdown",
   "metadata": {},
   "source": [
    "## 2.9 50% Mix Missing"
   ]
  },
  {
   "cell_type": "code",
   "execution_count": null,
   "metadata": {},
   "outputs": [],
   "source": [
    "experiment_name = 'mix_0.5'\n",
    "dataset_name_list = ['flow_sim', 'flow_zcity', 'pres_sim', 'pres_zcity']\n",
    "\n",
    "for dataset_name in dataset_name_list:\n",
    "    \n",
    "    if dataset_name == 'flow_sim':\n",
    "        experiment_args = flow_sim_args.experiment_config(experiment_name)\n",
    "    elif dataset_name == 'flow_zcity':\n",
    "        experiment_args = flow_zcity_args.experiment_config(experiment_name)\n",
    "    elif dataset_name == 'pres_sim':\n",
    "        experiment_args = pres_sim_args.experiment_config(experiment_name)\n",
    "    elif dataset_name == 'pres_zcity':\n",
    "        experiment_args = pres_zcity_args.experiment_config(experiment_name)\n",
    "    knn_dataComplete = KNN_dataComplete(dataset_name, experiment_name, experiment_args)\n",
    "    knn_dataComplete.run()"
   ]
  },
  {
   "cell_type": "markdown",
   "metadata": {},
   "source": [
    "## 2.10 70% Mix Missing"
   ]
  },
  {
   "cell_type": "code",
   "execution_count": null,
   "metadata": {},
   "outputs": [],
   "source": [
    "experiment_name = 'mix_0.7'\n",
    "dataset_name_list = ['flow_sim', 'flow_zcity', 'pres_sim', 'pres_zcity']\n",
    "\n",
    "for dataset_name in dataset_name_list:\n",
    "    \n",
    "    if dataset_name == 'flow_sim':\n",
    "        experiment_args = flow_sim_args.experiment_config(experiment_name)\n",
    "    elif dataset_name == 'flow_zcity':\n",
    "        experiment_args = flow_zcity_args.experiment_config(experiment_name)\n",
    "    elif dataset_name == 'pres_sim':\n",
    "        experiment_args = pres_sim_args.experiment_config(experiment_name)\n",
    "    elif dataset_name == 'pres_zcity':\n",
    "        experiment_args = pres_zcity_args.experiment_config(experiment_name)\n",
    "    knn_dataComplete = KNN_dataComplete(dataset_name, experiment_name, experiment_args)\n",
    "    knn_dataComplete.run()"
   ]
  }
 ],
 "metadata": {
  "kernelspec": {
   "display_name": "pytorch_gpu",
   "language": "python",
   "name": "python3"
  },
  "language_info": {
   "codemirror_mode": {
    "name": "ipython",
    "version": 3
   },
   "file_extension": ".py",
   "mimetype": "text/x-python",
   "name": "python",
   "nbconvert_exporter": "python",
   "pygments_lexer": "ipython3",
   "version": "3.11.5"
  }
 },
 "nbformat": 4,
 "nbformat_minor": 2
}
