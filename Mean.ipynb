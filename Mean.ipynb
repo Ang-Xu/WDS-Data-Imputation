{
 "cells": [
  {
   "cell_type": "code",
   "execution_count": 1,
   "metadata": {},
   "outputs": [],
   "source": [
    "from _utils import *\n",
    "from config import *\n",
    "\n",
    "import time\n",
    "import argparse\n",
    "import warnings\n",
    "warnings.filterwarnings('ignore')\n",
    "\n",
    "np.random.seed(28)"
   ]
  },
  {
   "cell_type": "markdown",
   "metadata": {},
   "source": [
    "# 1 Functions"
   ]
  },
  {
   "cell_type": "code",
   "execution_count": 2,
   "metadata": {},
   "outputs": [],
   "source": [
    "class args_config():\n",
    "    def __init__(self, dataset_name):\n",
    "        self.model_name = 'MEAN'\n",
    "        self.model_result_save_path = os.path.join(result_folder_path, self.model_name)  \n",
    "        create_folder(self.model_result_save_path)\n",
    "\n",
    "        self.dataset_name = dataset_name\n",
    "        self.dataset_result_save_path = os.path.join(self.model_result_save_path, self.dataset_name) \n",
    "        create_folder(self.dataset_result_save_path)\n",
    "    \n",
    "    def experiment_config(self, experiment_name):  \n",
    "        self.experiment_result_save_path = os.path.join(self.dataset_result_save_path, experiment_name)\n",
    "        create_folder(self.experiment_result_save_path)\n",
    "\n",
    "        data_complete_path = os.path.join(self.experiment_result_save_path, 'data_complete.csv')  \n",
    "        metrics_analysis_path = os.path.join(self.experiment_result_save_path, 'metrics_analysis')  \n",
    "        create_folder([metrics_analysis_path])\n",
    "        \n",
    "        parser = argparse.ArgumentParser(description='data complete configs')\n",
    "        parser.add_argument('--data_complete_path', type=str, default=data_complete_path)\n",
    "        parser.add_argument('--metrics_analysis_path', type=str, default=metrics_analysis_path)\n",
    "        args = parser.parse_known_args()[0]\n",
    "        return args"
   ]
  },
  {
   "cell_type": "code",
   "execution_count": 3,
   "metadata": {},
   "outputs": [],
   "source": [
    "flow_sim_args = args_config('flow_sim')\n",
    "flow_zcity_args = args_config('flow_zcity')\n",
    "pres_sim_args = args_config('pres_sim')\n",
    "pres_zcity_args = args_config('pres_zcity')"
   ]
  },
  {
   "cell_type": "code",
   "execution_count": 4,
   "metadata": {},
   "outputs": [],
   "source": [
    "global_metrics_all_sensor_df = pd.DataFrame()"
   ]
  },
  {
   "cell_type": "code",
   "execution_count": 5,
   "metadata": {},
   "outputs": [],
   "source": [
    "def compute_true_metrics(raw_data_value, denorm_sparse_value, denorm_data_complete_value):\n",
    "    pos_test = np.where((raw_data_value != 0) & (denorm_sparse_value == 0))\n",
    "    true_mape = compute_mape(raw_data_value[pos_test], denorm_data_complete_value[pos_test])\n",
    "    true_rmse = compute_rmse(raw_data_value[pos_test], denorm_data_complete_value[pos_test])\n",
    "    true_smape = compute_smape(raw_data_value[pos_test], denorm_data_complete_value[pos_test])\n",
    "    return true_mape, true_rmse, true_smape"
   ]
  },
  {
   "cell_type": "code",
   "execution_count": 6,
   "metadata": {},
   "outputs": [],
   "source": [
    "class MEAN_dataComplete():\n",
    "\n",
    "    def __init__(self, dataset_name, experiment_name, experiment_args):\n",
    "\n",
    "        if dataset_name == 'flow_sim':\n",
    "            self.raw_dataset_path = flow_sim_path\n",
    "        elif dataset_name == 'pres_sim':\n",
    "            self.raw_dataset_path = pres_sim_path\n",
    "        elif dataset_name == 'flow_zcity':\n",
    "            self.raw_dataset_path = flow_zcity_path\n",
    "        elif dataset_name == 'pres_zcity':\n",
    "            self.raw_dataset_path = pres_zcity_path\n",
    "\n",
    "        self.experiment_args = experiment_args\n",
    "\n",
    "        self.raw_data_df = read_csv_data(self.raw_dataset_path)\n",
    "\n",
    "        self.sparse_for_completing_path = os.path.join(dataset_sparse_path, dataset_name, experiment_name, 'denorm_sparse_for_completing.csv')\n",
    "        self.sparse_data_df = read_csv_data(self.sparse_for_completing_path)\n",
    "\n",
    "        self.data_complete_path = self.experiment_args.data_complete_path\n",
    "        self.metrics_analysis_path = self.experiment_args.metrics_analysis_path\n",
    "\n",
    "        self.name = dataset_name + '_' + experiment_name \n",
    "\n",
    "        self.mean_data_complete()\n",
    "\n",
    "    def mean_data_complete(self):\n",
    "        mape_single_sensor_df = pd.DataFrame(columns=self.raw_data_df.columns)\n",
    "        rmse_single_sensor_df = pd.DataFrame(columns=self.raw_data_df.columns)\n",
    "        smape_single_sensor_df = pd.DataFrame(columns=self.raw_data_df.columns)\n",
    "        metrics_analysis_df = pd.DataFrame(columns=['MAPE', 'RMSE', 'SMAPE'])\n",
    "\n",
    "        mean_data_df = self.sparse_data_df.copy()\n",
    "        for column in mean_data_df.columns:\n",
    "            mean_data_df[column].replace(0, np.nan, inplace=True)\n",
    "            mean_data_df[column].fillna(mean_data_df[column].mean(), inplace=True)\n",
    "\n",
    "        mean_data_df.to_csv(self.data_complete_path, index=True, header=True)\n",
    "        mape_all_sensors, rmse_all_sensors, smape_all_sensors = compute_true_metrics(self.raw_data_df.values, self.sparse_data_df.values, mean_data_df.values)\n",
    "        mape_single_sensor_list, rmse_single_sensor_list, smape_single_sensor_list = result_analysis(self.raw_data_df, self.sparse_data_df, mean_data_df)\n",
    "\n",
    "        print('MAPE: %.6f, RMSE: %.6f, SMAPE: %.6f' % (mape_all_sensors, rmse_all_sensors, smape_all_sensors))\n",
    "        metrics_analysis_df.loc['mean'] = [mape_all_sensors, rmse_all_sensors, smape_all_sensors]\n",
    "        mape_single_sensor_df.loc['mean'] = mape_single_sensor_list\n",
    "        rmse_single_sensor_df.loc['mean'] = rmse_single_sensor_list\n",
    "        smape_single_sensor_df.loc['mean'] = smape_single_sensor_list\n",
    "\n",
    "        metrics_analysis_df.to_csv(os.path.join(self.metrics_analysis_path, 'metrics_analysis.csv'), index=True, header=True)\n",
    "        mape_single_sensor_df.to_csv(os.path.join(self.metrics_analysis_path, 'mape_single_sensor.csv'), index=True, header=True)\n",
    "        rmse_single_sensor_df.to_csv(os.path.join(self.metrics_analysis_path, 'rmse_single_sensor.csv'), index=True, header=True)\n",
    "        smape_single_sensor_df.to_csv(os.path.join(self.metrics_analysis_path, 'smape_single_sensor.csv'), index=True, header=True)\n",
    "\n",
    "        global_metrics_all_sensor_df.loc[self.name, 'MAPE'] = mape_all_sensors\n",
    "        global_metrics_all_sensor_df.loc[self.name, 'RMSE'] = rmse_all_sensors\n",
    "        global_metrics_all_sensor_df.loc[self.name, 'SMAPE'] = smape_all_sensors"
   ]
  },
  {
   "cell_type": "markdown",
   "metadata": {},
   "source": [
    "# 2 Experiments"
   ]
  },
  {
   "cell_type": "markdown",
   "metadata": {},
   "source": [
    "-----"
   ]
  },
  {
   "cell_type": "code",
   "execution_count": 7,
   "metadata": {},
   "outputs": [],
   "source": [
    "experiment_name_list = ['random_0.3', 'random_0.6', 'random_0.9', 'long_range_0.3', 'long_range_0.6', 'block_0.3', 'block_0.6', 'mix_0.3', 'mix_0.5', 'mix_0.7']\n",
    "dataset_name_list = ['flow_sim', 'pres_sim', 'flow_zcity', 'pres_zcity']"
   ]
  },
  {
   "cell_type": "code",
   "execution_count": null,
   "metadata": {},
   "outputs": [],
   "source": [
    "for dataset_name in dataset_name_list:\n",
    "    for experiment_name in experiment_name_list:\n",
    "        print('\\nThe %s dataset and %s experiment is running...' % (dataset_name, experiment_name))\n",
    "        if dataset_name == 'flow_sim':\n",
    "            experiment_args = flow_sim_args.experiment_config(experiment_name)\n",
    "        elif dataset_name == 'pres_sim':\n",
    "            experiment_args = pres_sim_args.experiment_config(experiment_name)\n",
    "        elif dataset_name == 'flow_zcity':\n",
    "            experiment_args = flow_zcity_args.experiment_config(experiment_name)\n",
    "        elif dataset_name == 'pres_zcity':\n",
    "            experiment_args = pres_zcity_args.experiment_config(experiment_name)\n",
    "\n",
    "        MEAN_dataComplete(dataset_name, experiment_name, experiment_args)\n",
    "        print('The %s dataset and %s experiment has been completed!' % (dataset_name, experiment_name))\n",
    "\n",
    "global_metrics_all_sensor_df.to_csv(os.path.join(result_folder_path, 'MEAN', 'global_metrics_all_sensor.csv'), index=True, header=True)"
   ]
  }
 ],
 "metadata": {
  "kernelspec": {
   "display_name": "pytorch_gpu",
   "language": "python",
   "name": "python3"
  },
  "language_info": {
   "codemirror_mode": {
    "name": "ipython",
    "version": 3
   },
   "file_extension": ".py",
   "mimetype": "text/x-python",
   "name": "python",
   "nbconvert_exporter": "python",
   "pygments_lexer": "ipython3",
   "version": "3.11.5"
  }
 },
 "nbformat": 4,
 "nbformat_minor": 2
}
