{
 "cells": [
  {
   "cell_type": "code",
   "execution_count": 1,
   "metadata": {},
   "outputs": [],
   "source": [
    "from _utils import *\n",
    "from config import *\n",
    "\n",
    "import time\n",
    "import argparse\n",
    "import seaborn as sns\n",
    "import matplotlib.pyplot as plt\n",
    "\n",
    "from scipy import sparse\n",
    "from numpy.linalg import inv as inv\n",
    "\n",
    "import warnings\n",
    "warnings.filterwarnings('ignore')\n",
    "\n",
    "np.random.seed(28)"
   ]
  },
  {
   "cell_type": "markdown",
   "metadata": {},
   "source": [
    "# 1 Functions"
   ]
  },
  {
   "cell_type": "code",
   "execution_count": 2,
   "metadata": {},
   "outputs": [],
   "source": [
    "class args_config():\n",
    "    def __init__(self, dataset_name):\n",
    "        self.model_name = 'TRMF'\n",
    "        self.model_result_save_path = os.path.join(result_folder_path, self.model_name)  \n",
    "        create_folder(self.model_result_save_path)\n",
    "\n",
    "        self.dataset_name = dataset_name\n",
    "        self.dataset_result_save_path = os.path.join(self.model_result_save_path, self.dataset_name) \n",
    "        create_folder(self.dataset_result_save_path)\n",
    "    \n",
    "    def experiment_config(self, experiment_name):  \n",
    "        self.experiment_result_save_path = os.path.join(self.dataset_result_save_path, experiment_name)\n",
    "        create_folder(self.experiment_result_save_path)\n",
    "\n",
    "        data_complete_path = os.path.join(self.experiment_result_save_path, 'data_complete')  \n",
    "        best_data_complete_path = os.path.join(self.experiment_result_save_path, 'best_data_complete.csv')\n",
    "        metrics_analysis_path = os.path.join(self.experiment_result_save_path, 'metrics_analysis')  \n",
    "        plt_result_path = os.path.join(self.experiment_result_save_path, 'plt_result.png')\n",
    "        best_args_path = os.path.join(self.experiment_result_save_path, 'best_args_config.yml')\n",
    "        final_complete_save_path = os.path.join(self.experiment_result_save_path, 'final_complete.csv')\n",
    "        create_folder([data_complete_path, metrics_analysis_path])\n",
    "        \n",
    "        parser = argparse.ArgumentParser(description='data complete configs')\n",
    "        parser.add_argument('--data_complete_path', type=str, default=data_complete_path)\n",
    "        parser.add_argument('--best_data_complete_path', type=str, default=best_data_complete_path)\n",
    "        parser.add_argument('--metrics_analysis_path', type=str, default=metrics_analysis_path)\n",
    "        parser.add_argument('--plt_result_path', type=str, default=plt_result_path)\n",
    "        parser.add_argument('--best_args_path', type=str, default=best_args_path)\n",
    "        parser.add_argument('--final_complete_save_path', type=str, default=final_complete_save_path)\n",
    "        args = parser.parse_known_args()[0]\n",
    "        return args"
   ]
  },
  {
   "cell_type": "code",
   "execution_count": 3,
   "metadata": {},
   "outputs": [],
   "source": [
    "flow_sim_args = args_config('flow_sim')\n",
    "flow_zcity_args = args_config('flow_zcity')\n",
    "pres_sim_args = args_config('pres_sim')\n",
    "pres_zcity_args = args_config('pres_zcity')"
   ]
  },
  {
   "cell_type": "code",
   "execution_count": 4,
   "metadata": {},
   "outputs": [],
   "source": [
    "def print_result(it, tol, var, var_hat):\n",
    "    print('Iter: {}'.format(it))\n",
    "    print('Tolerance: {:.6}'.format(tol))\n",
    "    num = len(var)\n",
    "    mape = compute_mape(var, var_hat)\n",
    "    rmse = compute_rmse(var, var_hat)\n",
    "    smape = compute_smape(var, var_hat)\n",
    "    print('complete Num: {}'.format(num))\n",
    "    print('complete MAPE: {:.6}'.format(mape))\n",
    "    print('complete RMSE: {:.6}'.format(rmse))\n",
    "    print('complete SMAPE: {:.6}'.format(smape))\n",
    "    return mape, rmse, smape"
   ]
  },
  {
   "cell_type": "code",
   "execution_count": 5,
   "metadata": {},
   "outputs": [],
   "source": [
    "def metrics_analysis(mape_lists, rmse_lists, smape_lists, args, rank_search_space):\n",
    "    mape_df = pd.DataFrame(mape_lists, index=rank_search_space, columns=['mape'])\n",
    "    rmse_df = pd.DataFrame(rmse_lists, index=rank_search_space, columns=['rmse'])\n",
    "    smape_df = pd.DataFrame(smape_lists, index=rank_search_space, columns=['smape'])\n",
    "    mape_df.to_csv(os.path.join(args.metrics_analysis_path, 'mape_all_sensors.csv'), index=True, header=True)\n",
    "    rmse_df.to_csv(os.path.join(args.metrics_analysis_path, 'rmse_all_sensors.csv'), index=True, header=True)\n",
    "    smape_df.to_csv(os.path.join(args.metrics_analysis_path, 'smape_all_sensors.csv'), index=True, header=True)\n",
    "    return"
   ]
  },
  {
   "cell_type": "code",
   "execution_count": 6,
   "metadata": {},
   "outputs": [],
   "source": [
    "def compute_true_metrics(raw_data_value, denorm_sparse_value, denorm_data_complete_value):\n",
    "    pos_test = np.where((raw_data_value != 0) & (denorm_sparse_value == 0))\n",
    "    true_mape = compute_mape(raw_data_value[pos_test], denorm_data_complete_value[pos_test])\n",
    "    true_rmse = compute_rmse(raw_data_value[pos_test], denorm_data_complete_value[pos_test])\n",
    "    true_smape = compute_smape(raw_data_value[pos_test], denorm_data_complete_value[pos_test])\n",
    "    return true_mape, true_rmse, true_smape"
   ]
  },
  {
   "cell_type": "code",
   "execution_count": 7,
   "metadata": {},
   "outputs": [],
   "source": [
    "def fill_data_after_preprocess(best_data_complete_path, data_after_preprocess_path, data_after_complete_path):\n",
    "    best_data_complete_df = read_csv_data(best_data_complete_path)\n",
    "    data_after_preprocess_df = read_csv_data(data_after_preprocess_path)\n",
    "   \n",
    "    zero_indices = np.where(data_after_preprocess_df == 0)\n",
    "    zero_indices = list(zip(zero_indices[0], zero_indices[1]))\n",
    "    for zero_index in zero_indices:\n",
    "        data_after_preprocess_df.iloc[zero_index[0], zero_index[1]] = best_data_complete_df.iloc[zero_index[0], zero_index[1]]\n",
    "    data_after_preprocess_df.to_csv(data_after_complete_path, index=True, header=True)\n",
    "    print('Data after complete saved in {}'.format(data_after_complete_path))\n",
    "    return"
   ]
  },
  {
   "cell_type": "code",
   "execution_count": 8,
   "metadata": {},
   "outputs": [],
   "source": [
    "def trmf(dense_mat, sparse_mat, init_para, init_hyper, time_lags, maxiter):\n",
    "    \"\"\"Temporal Regularized Matrix Factorization, TRMF.\"\"\"\n",
    "    \n",
    "    ## Initialize parameters\n",
    "    W = init_para[\"W\"]\n",
    "    X = init_para[\"X\"]\n",
    "    theta = init_para[\"theta\"]\n",
    "    \n",
    "    ## Set hyperparameters\n",
    "    lambda_w = init_hyper[\"lambda_w\"]\n",
    "    lambda_x = init_hyper[\"lambda_x\"]\n",
    "    lambda_theta = init_hyper[\"lambda_theta\"]\n",
    "    eta = init_hyper[\"eta\"]\n",
    "    \n",
    "    dim1, dim2 = sparse_mat.shape\n",
    "    pos_train = np.where(sparse_mat != 0)\n",
    "    pos_test = np.where((dense_mat != 0) & (sparse_mat == 0))\n",
    "    binary_mat = sparse_mat.copy()\n",
    "    binary_mat[pos_train] = 1\n",
    "    d, rank = theta.shape\n",
    "    \n",
    "    for it in range(maxiter):\n",
    "        ## Update spatial matrix W\n",
    "        for i in range(dim1):\n",
    "            pos0 = np.where(sparse_mat[i, :] != 0)\n",
    "            Xt = X[pos0[0], :]\n",
    "            vec0 = Xt.T @ sparse_mat[i, pos0[0]]\n",
    "            mat0 = inv(Xt.T @ Xt + lambda_w * np.eye(rank))\n",
    "            W[i, :] = mat0 @ vec0\n",
    "        ## Update temporal matrix X\n",
    "        for t in range(dim2):\n",
    "            pos0 = np.where(sparse_mat[:, t] != 0)\n",
    "            Wt = W[pos0[0], :]\n",
    "            Mt = np.zeros((rank, rank))\n",
    "            Nt = np.zeros(rank)\n",
    "            if t < np.max(time_lags):\n",
    "                Pt = np.zeros((rank, rank))\n",
    "                Qt = np.zeros(rank)\n",
    "            else:\n",
    "                Pt = np.eye(rank)\n",
    "                Qt = np.einsum('ij, ij -> j', theta, X[t - time_lags, :])\n",
    "            if t < dim2 - np.min(time_lags):\n",
    "                if t >= np.max(time_lags) and t < dim2 - np.max(time_lags):\n",
    "                    index = list(range(0, d))\n",
    "                else:\n",
    "                    index = list(np.where((t + time_lags >= np.max(time_lags)) & (t + time_lags < dim2)))[0]\n",
    "                for k in index:\n",
    "                    Ak = theta[k, :]\n",
    "                    Mt += np.diag(Ak ** 2)\n",
    "                    theta0 = theta.copy()\n",
    "                    theta0[k, :] = 0\n",
    "                    Nt += np.multiply(Ak, X[t + time_lags[k], :]\n",
    "                                      - np.einsum('ij, ij -> j', theta0, X[t + time_lags[k] - time_lags, :]))\n",
    "            vec0 = Wt.T @ sparse_mat[pos0[0], t] + lambda_x * Nt + lambda_x * Qt\n",
    "            mat0 = inv(Wt.T @ Wt + lambda_x * Mt + lambda_x * Pt + lambda_x * eta * np.eye(rank))\n",
    "            X[t, :] = mat0 @ vec0\n",
    "        ## Update AR coefficients theta\n",
    "        for k in range(d):\n",
    "            theta0 = theta.copy()\n",
    "            theta0[k, :] = 0\n",
    "            mat0 = np.zeros((dim2 - np.max(time_lags), rank))\n",
    "            for L in range(d):\n",
    "                mat0 += X[np.max(time_lags) - time_lags[L] : dim2 - time_lags[L] , :] @ np.diag(theta0[L, :])\n",
    "            VarPi = X[np.max(time_lags) : dim2, :] - mat0\n",
    "            var1 = np.zeros((rank, rank))\n",
    "            var2 = np.zeros(rank)\n",
    "            for t in range(np.max(time_lags), dim2):\n",
    "                B = X[t - time_lags[k], :]\n",
    "                var1 += np.diag(np.multiply(B, B))\n",
    "                var2 += np.diag(B) @ VarPi[t - np.max(time_lags), :]\n",
    "            theta[k, :] = inv(var1 + lambda_theta * np.eye(rank) / lambda_x) @ var2\n",
    "\n",
    "        mat_hat = W @ X.T\n",
    "        mape = np.sum(np.abs(dense_mat[pos_test] - mat_hat[pos_test]) \n",
    "                      / dense_mat[pos_test]) / dense_mat[pos_test].shape[0]\n",
    "        rmse = np.sqrt(np.sum((dense_mat[pos_test] - mat_hat[pos_test]) ** 2)/dense_mat[pos_test].shape[0])\n",
    "        smape = compute_smape(dense_mat[pos_test], mat_hat[pos_test])\n",
    "        \n",
    "        if (it + 1) % 100 == 0:\n",
    "            print('Iter: {}'.format(it + 1))\n",
    "            print('Imputation MAPE: {:.6}'.format(mape))\n",
    "            print('Imputation RMSE: {:.6}'.format(rmse))\n",
    "            print('Imputation SMAPE: {:.6}'.format(smape))\n",
    "            print()\n",
    "    \n",
    "    return mat_hat"
   ]
  },
  {
   "cell_type": "code",
   "execution_count": 9,
   "metadata": {},
   "outputs": [],
   "source": [
    "class TRMF_dataComplete():\n",
    "\n",
    "    def __init__(self, dataset_name, experiment_name, rank_search_space, experiment_args):\n",
    "        if dataset_name == 'flow_sim':\n",
    "            self.raw_dataset_path = flow_sim_path\n",
    "        elif dataset_name == 'pres_sim':\n",
    "            self.raw_dataset_path = pres_sim_path\n",
    "        elif dataset_name == 'flow_zcity':\n",
    "            self.raw_dataset_path = flow_zcity_path\n",
    "        elif dataset_name == 'pres_zcity':\n",
    "            self.raw_dataset_path = pres_zcity_path\n",
    "        \n",
    "        self.raw_data_df = read_csv_data(self.raw_dataset_path)\n",
    "        self.rank_search_space = rank_search_space\n",
    "        self.experiment_args = experiment_args\n",
    "\n",
    "        self.data_norm_for_completing_path = os.path.join(dataset_sparse_path, dataset_name, 'data_norm_for_completing.csv')\n",
    "        self.sparse_mat_for_completing_path = os.path.join(dataset_sparse_path, dataset_name, experiment_name, 'sparse_mat_for_completing.csv')\n",
    "        self.denorm_sparse_for_completing_path = os.path.join(dataset_sparse_path, dataset_name, experiment_name, 'denorm_sparse_for_completing.csv')\n",
    "\n",
    "        self.data_complete_path = self.experiment_args.data_complete_path\n",
    "        self.best_data_complete_path = self.experiment_args.best_data_complete_path\n",
    "        self.metrics_analysis_path = self.experiment_args.metrics_analysis_path\n",
    "        self.plt_result_path = self.experiment_args.plt_result_path\n",
    "        self.best_args_path = self.experiment_args.best_args_path\n",
    "        self.final_complete_save_path = self.experiment_args.final_complete_save_path        \n",
    "\n",
    "        self._prepareForImputation()\n",
    "        return\n",
    "    \n",
    "    def _prepareForImputation(self):\n",
    "        self.norm_data_df = read_csv_data(self.data_norm_for_completing_path)\n",
    "        self.dense_mat = self.norm_data_df.values\n",
    "        self.dense_tensor = self.dense_mat.T.reshape([self.dense_mat.shape[1], -1, int(24*60/15)]).transpose(0, 2, 1)\n",
    "        print('dense_tensor shape: ', self.dense_tensor.shape, ', it means (num_of_sensors, times_of_one_day, num_of_days)')\n",
    "        print('dense_tensor中0的个数: ', np.sum(self.dense_mat == 0), ' 比例: %.4f' % (np.sum(self.dense_mat == 0) / np.prod(self.dense_mat.shape)))\n",
    "\n",
    "        self.sparse_mat_df = read_csv_data(self.sparse_mat_for_completing_path)\n",
    "        self.sparse_mat = self.sparse_mat_df.T.values\n",
    "        self.sparse_tensor = self.sparse_mat.reshape([self.dense_mat.shape[1], -1, int(24*60/15)]).transpose(0, 2, 1)\n",
    "        self.denorm_sparse_mat_df = read_csv_data(self.denorm_sparse_for_completing_path)\n",
    "        self.dense_mat = self.dense_mat.T\n",
    "        return\n",
    "\n",
    "    def trmf_complete(self):\n",
    "\n",
    "        mape_all_sensors_lists = []\n",
    "        rmse_all_sensors_lists = []\n",
    "        smape_all_sensors_lists = []\n",
    "        mape_single_sensor_df = pd.DataFrame(columns=self.raw_data_df.columns)\n",
    "        rmse_single_sensor_df = pd.DataFrame(columns=self.raw_data_df.columns)\n",
    "        smape_single_sensor_df = pd.DataFrame(columns=self.raw_data_df.columns)\n",
    "        best_rmse = np.inf\n",
    "        best_rank = None\n",
    "        best = False\n",
    "        current_epoch = 1\n",
    "        total_epoch = len(self.rank_search_space)\n",
    "        for rank in self.rank_search_space:\n",
    "            mape_all_sensors_list = []\n",
    "            rmse_all_sensors_list = []\n",
    "            smape_all_sensors_list = []\n",
    "\n",
    "            start = time.time()\n",
    "            dim1, dim2 = self.sparse_mat.shape\n",
    "            time_lags = np.array([1, 2, 96])\n",
    "            d = time_lags.shape[0]\n",
    "            ## Initialize parameters\n",
    "            W = 0.1 * np.random.rand(dim1, rank)\n",
    "            X = 0.1 * np.random.rand(dim2, rank)\n",
    "            theta = 0.1 * np.random.rand(d, rank)\n",
    "            init_para = {\"W\": W, \"X\": X, \"theta\": theta}\n",
    "            ## Set hyparameters\n",
    "            lambda_w = 500\n",
    "            lambda_x = 500\n",
    "            lambda_theta = 500\n",
    "            eta = 0.03\n",
    "            init_hyper = {\"lambda_w\": lambda_w, \"lambda_x\": lambda_x, \"lambda_theta\": lambda_theta, \"eta\": eta}\n",
    "            maxiter = 200\n",
    "            print('epoch: %d/%d, rank: %d' % (current_epoch, total_epoch, rank))\n",
    "        \n",
    "            self.mat_hat = trmf(self.dense_mat, self.sparse_mat, init_para, init_hyper, time_lags, maxiter)\n",
    "            self.data_complete_df = pd.DataFrame(self.mat_hat.T, index=self.norm_data_df.index, columns=self.norm_data_df.columns)\n",
    "            self.denorm_data_complete_df = reverse_one2hundred_normalization(self.data_complete_df, self.raw_data_df)\n",
    "            save_path = os.path.join(self.data_complete_path, 'rank=' + str(rank) + '.csv')\n",
    "            \n",
    "            self.denorm_data_complete_df = self.denorm_data_complete_df.round(3)\n",
    "            self.denorm_data_complete_df.to_csv(save_path, index=True, header=True)\n",
    "\n",
    "            mape_all_sensors, rmse_all_sensors, smape_all_sensors = compute_true_metrics(self.raw_data_df.values, self.denorm_sparse_mat_df.values, self.denorm_data_complete_df.values)\n",
    "            print('MAPE: %.6f, RMSE: %.6f, SMAPE: %.6f' % (mape_all_sensors, rmse_all_sensors, smape_all_sensors))\n",
    "            if rmse_all_sensors < best_rmse:\n",
    "                best_rmse = rmse_all_sensors\n",
    "                best_rank = rank\n",
    "                best = True\n",
    "            mape_all_sensors_list.append(mape_all_sensors)\n",
    "            rmse_all_sensors_list.append(rmse_all_sensors)\n",
    "            smape_all_sensors_list.append(smape_all_sensors)\n",
    "\n",
    "            if best:\n",
    "                self.denorm_data_complete_df.to_csv(self.best_data_complete_path, index=True, header=True)\n",
    "                best = False\n",
    "\n",
    "            mape_single_sensor_list, rmse_single_sensor_list, smape_single_sensor_list = result_analysis(self.raw_data_df, self.denorm_sparse_mat_df, self.denorm_data_complete_df)\n",
    "            mape_single_sensor_df.loc['rank=' + str(rank), :] = mape_single_sensor_list\n",
    "            rmse_single_sensor_df.loc['rank=' + str(rank), :] = rmse_single_sensor_list\n",
    "            smape_single_sensor_df.loc['rank=' + str(rank), :] = smape_single_sensor_list\n",
    "            end = time.time()\n",
    "            print('Running time: %d seconds'%(end - start))\n",
    "            current_epoch += 1\n",
    "            mape_all_sensors_lists.append(mape_all_sensors_list)\n",
    "            rmse_all_sensors_lists.append(rmse_all_sensors_list)\n",
    "            smape_all_sensors_lists.append(smape_all_sensors_list)\n",
    "        mape_all_sensors_lists = np.array(mape_all_sensors_lists)\n",
    "        rmse_all_sensors_lists = np.array(rmse_all_sensors_lists)\n",
    "        smape_all_sensors_lists = np.array(smape_all_sensors_lists)\n",
    "\n",
    "        metrics_analysis(mape_all_sensors_lists, rmse_all_sensors_lists, smape_all_sensors_lists, self.experiment_args, self.rank_search_space)\n",
    "        mape_single_sensor_df.to_csv(os.path.join(self.metrics_analysis_path, 'mape_single_sensor.csv'), index=True, header=True)\n",
    "        rmse_single_sensor_df.to_csv(os.path.join(self.metrics_analysis_path, 'rmse_single_sensor.csv'), index=True, header=True)\n",
    "        smape_single_sensor_df.to_csv(os.path.join(self.metrics_analysis_path, 'smape_single_sensor.csv'), index=True, header=True)\n",
    "        print('最优参数为：rank = %.2f\\n' % best_rank)\n",
    "        best_mape_single_sensor_list = mape_single_sensor_df.loc['rank=' + str(rank), :].values\n",
    "        best_rmse_single_sensor_list = rmse_single_sensor_df.loc['rank=' + str(rank), :].values\n",
    "        best_smape_single_sensor_list = smape_single_sensor_df.loc['rank=' + str(rank), :].values\n",
    "        return best_rank, best_mape_single_sensor_list, best_rmse_single_sensor_list, best_smape_single_sensor_list\n",
    "    \n",
    "    def run(self):\n",
    "        print('\\n--------------------------- Beginning ---------------------------')\n",
    "        best_rank, best_mape_single_sensor_list, best_rmse_single_sensor_list, best_smape_single_sensor_list = self.trmf_complete()\n",
    "        \n",
    "        self.best_args_dict = {}\n",
    "        self.best_args_dict['best_rank'] = best_rank\n",
    "        write_yaml(self.best_args_path, self.best_args_dict)\n",
    "        fill_data_after_preprocess(self.best_data_complete_path, self.raw_dataset_path, self.final_complete_save_path)\n",
    "        plt_result(self.raw_data_df, read_csv_data(self.best_data_complete_path), self.denorm_sparse_mat_df, self.plt_result_path,\n",
    "                   best_mape_single_sensor_list, best_rmse_single_sensor_list, best_smape_single_sensor_list)\n",
    "        print('\\n--------------------------- Ending ---------------------------')      \n"
   ]
  },
  {
   "cell_type": "markdown",
   "metadata": {},
   "source": [
    "# 2 Experiments"
   ]
  },
  {
   "cell_type": "markdown",
   "metadata": {},
   "source": [
    "------------"
   ]
  },
  {
   "cell_type": "markdown",
   "metadata": {},
   "source": [
    "## 2.1 30% Random Missing"
   ]
  },
  {
   "cell_type": "code",
   "execution_count": 10,
   "metadata": {},
   "outputs": [],
   "source": [
    "missing_type = 'random'\n",
    "missing_rate = 0.3\n",
    "experiment_name = missing_type + '_' + str(missing_rate)"
   ]
  },
  {
   "cell_type": "markdown",
   "metadata": {},
   "source": [
    "### flow_sim"
   ]
  },
  {
   "cell_type": "code",
   "execution_count": null,
   "metadata": {},
   "outputs": [],
   "source": [
    "rank_search_space = [10, 20, 30]\n",
    "dataset_name = 'flow_sim'\n",
    "\n",
    "experiment_args = flow_sim_args.experiment_config(experiment_name)\n",
    "Imputer = TRMF_dataComplete(dataset_name, experiment_name, rank_search_space, experiment_args)\n",
    "Imputer.run()"
   ]
  },
  {
   "cell_type": "markdown",
   "metadata": {},
   "source": [
    "### pres_sim"
   ]
  },
  {
   "cell_type": "code",
   "execution_count": null,
   "metadata": {},
   "outputs": [],
   "source": [
    "rank_search_space = [10, 20, 30]\n",
    "dataset_name = 'pres_sim'\n",
    "\n",
    "experiment_args = pres_sim_args.experiment_config(experiment_name)\n",
    "Imputer = TRMF_dataComplete(dataset_name, experiment_name, rank_search_space, experiment_args)\n",
    "Imputer.run()"
   ]
  },
  {
   "cell_type": "markdown",
   "metadata": {},
   "source": [
    "### flow_zcity"
   ]
  },
  {
   "cell_type": "code",
   "execution_count": null,
   "metadata": {},
   "outputs": [],
   "source": [
    "rank_search_space = [10, 20, 30]\n",
    "dataset_name = 'flow_zcity'\n",
    "\n",
    "experiment_args = flow_zcity_args.experiment_config(experiment_name)\n",
    "Imputer = TRMF_dataComplete(dataset_name, experiment_name, rank_search_space, experiment_args)\n",
    "Imputer.run()"
   ]
  },
  {
   "cell_type": "markdown",
   "metadata": {},
   "source": [
    "### pres_zcity"
   ]
  },
  {
   "cell_type": "code",
   "execution_count": null,
   "metadata": {},
   "outputs": [],
   "source": [
    "rank_search_space = [10, 20, 30]\n",
    "dataset_name = 'pres_zcity'\n",
    "\n",
    "experiment_args = pres_zcity_args.experiment_config(experiment_name)\n",
    "Imputer = TRMF_dataComplete(dataset_name, experiment_name, rank_search_space, experiment_args)\n",
    "Imputer.run()"
   ]
  },
  {
   "cell_type": "markdown",
   "metadata": {},
   "source": [
    "## 2.2 60% Random Missing"
   ]
  },
  {
   "cell_type": "code",
   "execution_count": null,
   "metadata": {},
   "outputs": [],
   "source": [
    "missing_type = 'random'\n",
    "missing_rate = 0.6\n",
    "experiment_name = missing_type + '_' + str(missing_rate)"
   ]
  },
  {
   "cell_type": "markdown",
   "metadata": {},
   "source": [
    "### flow_sim"
   ]
  },
  {
   "cell_type": "code",
   "execution_count": null,
   "metadata": {},
   "outputs": [],
   "source": [
    "rank_search_space = [10, 20, 30]\n",
    "dataset_name = 'flow_sim'\n",
    "\n",
    "experiment_args = flow_sim_args.experiment_config(experiment_name)\n",
    "Imputer = TRMF_dataComplete(dataset_name, experiment_name, rank_search_space, experiment_args)\n",
    "Imputer.run()"
   ]
  },
  {
   "cell_type": "markdown",
   "metadata": {},
   "source": [
    "### pres_sim"
   ]
  },
  {
   "cell_type": "code",
   "execution_count": null,
   "metadata": {},
   "outputs": [],
   "source": [
    "rank_search_space = [10, 20, 30]\n",
    "dataset_name = 'pres_sim'\n",
    "\n",
    "experiment_args = pres_sim_args.experiment_config(experiment_name)\n",
    "Imputer = TRMF_dataComplete(dataset_name, experiment_name, rank_search_space, experiment_args)\n",
    "Imputer.run()"
   ]
  },
  {
   "cell_type": "markdown",
   "metadata": {},
   "source": [
    "### flow_zcity"
   ]
  },
  {
   "cell_type": "code",
   "execution_count": null,
   "metadata": {},
   "outputs": [],
   "source": [
    "rank_search_space = [10, 20, 30]\n",
    "dataset_name = 'flow_zcity'\n",
    "\n",
    "experiment_args = flow_zcity_args.experiment_config(experiment_name)\n",
    "Imputer = TRMF_dataComplete(dataset_name, experiment_name, rank_search_space, experiment_args)\n",
    "Imputer.run()"
   ]
  },
  {
   "cell_type": "markdown",
   "metadata": {},
   "source": [
    "### pres_zcity"
   ]
  },
  {
   "cell_type": "code",
   "execution_count": null,
   "metadata": {},
   "outputs": [],
   "source": [
    "rank_search_space = [10, 20, 30]\n",
    "dataset_name = 'pres_zcity'\n",
    "\n",
    "experiment_args = pres_zcity_args.experiment_config(experiment_name)\n",
    "Imputer = TRMF_dataComplete(dataset_name, experiment_name, rank_search_space, experiment_args)\n",
    "Imputer.run()"
   ]
  },
  {
   "cell_type": "markdown",
   "metadata": {},
   "source": [
    "------------"
   ]
  },
  {
   "cell_type": "markdown",
   "metadata": {},
   "source": [
    "## 2.3 30% Long-Range Missing"
   ]
  },
  {
   "cell_type": "code",
   "execution_count": null,
   "metadata": {},
   "outputs": [],
   "source": [
    "missing_type = 'long_range'\n",
    "missing_rate = 0.3\n",
    "experiment_name = missing_type + '_' + str(missing_rate)"
   ]
  },
  {
   "cell_type": "markdown",
   "metadata": {},
   "source": [
    "### flow_sim"
   ]
  },
  {
   "cell_type": "code",
   "execution_count": null,
   "metadata": {},
   "outputs": [],
   "source": [
    "rank_search_space = [10, 20, 30]\n",
    "dataset_name = 'flow_sim'\n",
    "\n",
    "experiment_args = flow_sim_args.experiment_config(experiment_name)\n",
    "Imputer = TRMF_dataComplete(dataset_name, experiment_name, rank_search_space, experiment_args)\n",
    "Imputer.run()"
   ]
  },
  {
   "cell_type": "markdown",
   "metadata": {},
   "source": [
    "### pres_sim"
   ]
  },
  {
   "cell_type": "code",
   "execution_count": null,
   "metadata": {},
   "outputs": [],
   "source": [
    "rank_search_space = [10, 20, 30]\n",
    "dataset_name = 'pres_sim'\n",
    "\n",
    "experiment_args = pres_sim_args.experiment_config(experiment_name)\n",
    "Imputer = TRMF_dataComplete(dataset_name, experiment_name, rank_search_space, experiment_args)\n",
    "Imputer.run()"
   ]
  },
  {
   "cell_type": "markdown",
   "metadata": {},
   "source": [
    "### flow_zcity"
   ]
  },
  {
   "cell_type": "code",
   "execution_count": null,
   "metadata": {},
   "outputs": [],
   "source": [
    "rank_search_space = [10, 20, 30]\n",
    "dataset_name = 'flow_zcity'\n",
    "\n",
    "experiment_args = flow_zcity_args.experiment_config(experiment_name)\n",
    "Imputer = TRMF_dataComplete(dataset_name, experiment_name, rank_search_space, experiment_args)\n",
    "Imputer.run()"
   ]
  },
  {
   "cell_type": "markdown",
   "metadata": {},
   "source": [
    "### pres_zcity"
   ]
  },
  {
   "cell_type": "code",
   "execution_count": null,
   "metadata": {},
   "outputs": [],
   "source": [
    "rank_search_space = [10, 20, 30]\n",
    "dataset_name = 'pres_zcity'\n",
    "\n",
    "experiment_args = pres_zcity_args.experiment_config(experiment_name)\n",
    "Imputer = TRMF_dataComplete(dataset_name, experiment_name, rank_search_space, experiment_args)\n",
    "Imputer.run()"
   ]
  },
  {
   "cell_type": "markdown",
   "metadata": {},
   "source": [
    "-----"
   ]
  },
  {
   "cell_type": "markdown",
   "metadata": {},
   "source": [
    "## 2.4 30% Block Missing"
   ]
  },
  {
   "cell_type": "code",
   "execution_count": null,
   "metadata": {},
   "outputs": [],
   "source": [
    "missing_type = 'block'\n",
    "missing_rate = 0.3\n",
    "experiment_name = missing_type + '_' + str(missing_rate)"
   ]
  },
  {
   "cell_type": "markdown",
   "metadata": {},
   "source": [
    "### flow_sim"
   ]
  },
  {
   "cell_type": "code",
   "execution_count": null,
   "metadata": {},
   "outputs": [],
   "source": [
    "rank_search_space = [10, 20, 30]\n",
    "dataset_name = 'flow_sim'\n",
    "\n",
    "experiment_args = flow_sim_args.experiment_config(experiment_name)\n",
    "Imputer = TRMF_dataComplete(dataset_name, experiment_name, rank_search_space, experiment_args)\n",
    "Imputer.run()"
   ]
  },
  {
   "cell_type": "markdown",
   "metadata": {},
   "source": [
    "### pres_sim"
   ]
  },
  {
   "cell_type": "code",
   "execution_count": null,
   "metadata": {},
   "outputs": [],
   "source": [
    "rank_search_space = [10, 20, 30]\n",
    "dataset_name = 'pres_sim'\n",
    "\n",
    "experiment_args = pres_sim_args.experiment_config(experiment_name)\n",
    "Imputer = TRMF_dataComplete(dataset_name, experiment_name, rank_search_space, experiment_args)\n",
    "Imputer.run()"
   ]
  },
  {
   "cell_type": "markdown",
   "metadata": {},
   "source": [
    "### flow_zcity"
   ]
  },
  {
   "cell_type": "code",
   "execution_count": null,
   "metadata": {},
   "outputs": [],
   "source": [
    "rank_search_space = [10, 20, 30]\n",
    "dataset_name = 'flow_zcity'\n",
    "\n",
    "experiment_args = flow_zcity_args.experiment_config(experiment_name)\n",
    "Imputer = TRMF_dataComplete(dataset_name, experiment_name, rank_search_space, experiment_args)\n",
    "Imputer.run()"
   ]
  },
  {
   "cell_type": "markdown",
   "metadata": {},
   "source": [
    "### pres_zcity"
   ]
  },
  {
   "cell_type": "code",
   "execution_count": null,
   "metadata": {},
   "outputs": [],
   "source": [
    "rank_search_space = [10, 20, 30]\n",
    "dataset_name = 'pres_zcity'\n",
    "\n",
    "experiment_args = pres_zcity_args.experiment_config(experiment_name)\n",
    "Imputer = TRMF_dataComplete(dataset_name, experiment_name, rank_search_space, experiment_args)\n",
    "Imputer.run()"
   ]
  },
  {
   "cell_type": "markdown",
   "metadata": {},
   "source": [
    "------"
   ]
  },
  {
   "cell_type": "markdown",
   "metadata": {},
   "source": [
    "## 2.5 30% Mix Missing"
   ]
  },
  {
   "cell_type": "code",
   "execution_count": null,
   "metadata": {},
   "outputs": [],
   "source": [
    "missing_type = 'mix'\n",
    "missing_rate = 0.3\n",
    "experiment_name = missing_type + '_' + str(missing_rate)"
   ]
  },
  {
   "cell_type": "markdown",
   "metadata": {},
   "source": [
    "### flow_sim"
   ]
  },
  {
   "cell_type": "code",
   "execution_count": null,
   "metadata": {},
   "outputs": [],
   "source": [
    "rank_search_space = [10, 20, 30]\n",
    "dataset_name = 'flow_sim'\n",
    "\n",
    "experiment_args = flow_sim_args.experiment_config(experiment_name)\n",
    "Imputer = TRMF_dataComplete(dataset_name, experiment_name, rank_search_space, experiment_args)\n",
    "Imputer.run()"
   ]
  },
  {
   "cell_type": "markdown",
   "metadata": {},
   "source": [
    "### pres_sim"
   ]
  },
  {
   "cell_type": "code",
   "execution_count": null,
   "metadata": {},
   "outputs": [],
   "source": [
    "rank_search_space = [10, 20, 30]\n",
    "dataset_name = 'pres_sim'\n",
    "\n",
    "experiment_args = pres_sim_args.experiment_config(experiment_name)\n",
    "Imputer = TRMF_dataComplete(dataset_name, experiment_name, rank_search_space, experiment_args)\n",
    "Imputer.run()"
   ]
  },
  {
   "cell_type": "markdown",
   "metadata": {},
   "source": [
    "### flow_zcity"
   ]
  },
  {
   "cell_type": "code",
   "execution_count": null,
   "metadata": {},
   "outputs": [],
   "source": [
    "rank_search_space = [10, 20, 30]\n",
    "dataset_name = 'flow_zcity'\n",
    "\n",
    "experiment_args = flow_zcity_args.experiment_config(experiment_name)\n",
    "Imputer = TRMF_dataComplete(dataset_name, experiment_name, rank_search_space, experiment_args)\n",
    "Imputer.run()"
   ]
  },
  {
   "cell_type": "markdown",
   "metadata": {},
   "source": [
    "### pres_zcity"
   ]
  },
  {
   "cell_type": "code",
   "execution_count": null,
   "metadata": {},
   "outputs": [],
   "source": [
    "rank_search_space = [10, 20, 30]\n",
    "dataset_name = 'pres_zcity'\n",
    "\n",
    "experiment_args = pres_zcity_args.experiment_config(experiment_name)\n",
    "Imputer = TRMF_dataComplete(dataset_name, experiment_name, rank_search_space, experiment_args)\n",
    "Imputer.run()"
   ]
  },
  {
   "cell_type": "markdown",
   "metadata": {},
   "source": [
    "## 2.6 50% Mix Missing"
   ]
  },
  {
   "cell_type": "code",
   "execution_count": null,
   "metadata": {},
   "outputs": [],
   "source": [
    "missing_type = 'mix'\n",
    "missing_rate = 0.5\n",
    "experiment_name = missing_type + '_' + str(missing_rate)"
   ]
  },
  {
   "cell_type": "markdown",
   "metadata": {},
   "source": [
    "### flow_sim"
   ]
  },
  {
   "cell_type": "code",
   "execution_count": null,
   "metadata": {},
   "outputs": [],
   "source": [
    "rank_search_space = [10, 20, 30]\n",
    "dataset_name = 'flow_sim'\n",
    "\n",
    "experiment_args = flow_sim_args.experiment_config(experiment_name)\n",
    "Imputer = TRMF_dataComplete(dataset_name, experiment_name, rank_search_space, experiment_args)\n",
    "Imputer.run()"
   ]
  },
  {
   "cell_type": "markdown",
   "metadata": {},
   "source": [
    "### pres_sim"
   ]
  },
  {
   "cell_type": "code",
   "execution_count": null,
   "metadata": {},
   "outputs": [],
   "source": [
    "rank_search_space = [10, 20, 30]\n",
    "dataset_name = 'pres_sim'\n",
    "\n",
    "experiment_args = pres_sim_args.experiment_config(experiment_name)\n",
    "Imputer = TRMF_dataComplete(dataset_name, experiment_name, rank_search_space, experiment_args)\n",
    "Imputer.run()"
   ]
  },
  {
   "cell_type": "markdown",
   "metadata": {},
   "source": [
    "### flow_zcity"
   ]
  },
  {
   "cell_type": "code",
   "execution_count": null,
   "metadata": {},
   "outputs": [],
   "source": [
    "rank_search_space = [10, 20, 30]\n",
    "dataset_name = 'flow_zcity'\n",
    "\n",
    "experiment_args = flow_zcity_args.experiment_config(experiment_name)\n",
    "Imputer = TRMF_dataComplete(dataset_name, experiment_name, rank_search_space, experiment_args)\n",
    "Imputer.run()"
   ]
  },
  {
   "cell_type": "markdown",
   "metadata": {},
   "source": [
    "### pres_zcity"
   ]
  },
  {
   "cell_type": "code",
   "execution_count": null,
   "metadata": {},
   "outputs": [],
   "source": [
    "rank_search_space = [10, 20, 30]\n",
    "dataset_name = 'pres_zcity'\n",
    "\n",
    "experiment_args = pres_zcity_args.experiment_config(experiment_name)\n",
    "Imputer = TRMF_dataComplete(dataset_name, experiment_name, rank_search_space, experiment_args)\n",
    "Imputer.run()"
   ]
  }
 ],
 "metadata": {
  "kernelspec": {
   "display_name": "pytorch_gpu",
   "language": "python",
   "name": "python3"
  },
  "language_info": {
   "codemirror_mode": {
    "name": "ipython",
    "version": 3
   },
   "file_extension": ".py",
   "mimetype": "text/x-python",
   "name": "python",
   "nbconvert_exporter": "python",
   "pygments_lexer": "ipython3",
   "version": "3.11.5"
  }
 },
 "nbformat": 4,
 "nbformat_minor": 2
}
